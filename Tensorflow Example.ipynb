{
 "cells": [
  {
   "cell_type": "markdown",
   "metadata": {},
   "source": [
    "# Resources\n",
    "\n",
    "* [Beginnner tutorial](https://www.tensorflow.org/get_started/mnist/beginners)\n",
    "* Convolutional networks in TF: [overview of CNNs and how they work in TF](https://www.tensorflow.org/tutorials/layers) and [short version](https://www.tensorflow.org/get_started/mnist/pros)\n",
    "* [ConvNetJS](https://cs.stanford.edu/people/karpathy/convnetjs/demo/mnist.html): good for visualising weights. The network configuration is pasted below\n",
    "* [FastAI Course](http://course.fast.ai/): Not Tensorflow (uses Theano and Keras)\n",
    "\n",
    "NB: I installed TensorFlow with pip in a virtualenv on OSX; I had problems with `protobuf` and had to remove it from the pip virtualenv and use Homebrew to install it instead. To make Homebrew packages available in the virtualenv install, put the `.pth` file the `protobuf` brew recipe generates in the `site-packages` directory of the virtual environment.\n",
    "\n",
    "ConvnetJS settings for the CNN defined below:\n",
    "\n",
    "    layer_defs = [];\n",
    "    layer_defs.push({type:'input', out_sx:24, out_sy:24, out_depth:1});\n",
    "    layer_defs.push({type:'conv', sx:5, filters:32, stride:1, pad:2, activation:'relu'});\n",
    "    layer_defs.push({type:'pool', sx:2, stride:2});\n",
    "    layer_defs.push({type:'conv', sx:5, filters:64, stride:1, pad:2, activation:'relu'});\n",
    "    layer_defs.push({type:'pool', sx:2, stride:2});\n",
    "    layer_defs.push({type:'softmax', num_classes:10});\n",
    "\n",
    "    net = new convnetjs.Net();\n",
    "    net.makeLayers(layer_defs);\n",
    "\n",
    "    trainer = new convnetjs.SGDTrainer(net, {method:'adadelta', batch_size:20, l2_decay:0.001});\n"
   ]
  },
  {
   "cell_type": "markdown",
   "metadata": {},
   "source": [
    "# Basic softmax regression\n",
    "\n",
    "From [this guide in the TensorFlow docs](https://www.tensorflow.org/get_started/mnist/pros)"
   ]
  },
  {
   "cell_type": "code",
   "execution_count": 1,
   "metadata": {
    "collapsed": true
   },
   "outputs": [],
   "source": [
    "import tensorflow as tf"
   ]
  },
  {
   "cell_type": "markdown",
   "metadata": {},
   "source": [
    "Loading the data, already partitioned into training and test sets"
   ]
  },
  {
   "cell_type": "code",
   "execution_count": 2,
   "metadata": {},
   "outputs": [
    {
     "name": "stdout",
     "output_type": "stream",
     "text": [
      "Extracting MNIST_data/train-images-idx3-ubyte.gz\n",
      "Extracting MNIST_data/train-labels-idx1-ubyte.gz\n",
      "Extracting MNIST_data/t10k-images-idx3-ubyte.gz\n",
      "Extracting MNIST_data/t10k-labels-idx1-ubyte.gz\n"
     ]
    }
   ],
   "source": [
    "from tensorflow.examples.tutorials.mnist import input_data\n",
    "mnist = input_data.read_data_sets('MNIST_data', one_hot=True)\n"
   ]
  },
  {
   "cell_type": "code",
   "execution_count": 4,
   "metadata": {
    "collapsed": true
   },
   "outputs": [],
   "source": [
    "import tensorflow as tf\n",
    "sess = tf.InteractiveSession()"
   ]
  },
  {
   "cell_type": "markdown",
   "metadata": {},
   "source": [
    "We flatten the 28x28 images into a 784 element vector with greyscale pixel values and regress that to a 10-element vector where each element has a probability of class membership assigned to it"
   ]
  },
  {
   "cell_type": "code",
   "execution_count": 5,
   "metadata": {
    "collapsed": true
   },
   "outputs": [],
   "source": [
    "x = tf.placeholder(tf.float32, shape=[None, 784])"
   ]
  },
  {
   "cell_type": "code",
   "execution_count": 6,
   "metadata": {
    "collapsed": true
   },
   "outputs": [],
   "source": [
    "y_ = tf.placeholder(tf.float32, shape=[None, 10])"
   ]
  },
  {
   "cell_type": "code",
   "execution_count": 7,
   "metadata": {
    "collapsed": true
   },
   "outputs": [],
   "source": [
    "W = tf.Variable(tf.zeros([784,10]))"
   ]
  },
  {
   "cell_type": "code",
   "execution_count": 8,
   "metadata": {
    "collapsed": true
   },
   "outputs": [],
   "source": [
    "b = tf.Variable(tf.zeros([10]))"
   ]
  },
  {
   "cell_type": "code",
   "execution_count": 9,
   "metadata": {
    "collapsed": true
   },
   "outputs": [],
   "source": [
    "sess.run(tf.global_variables_initializer())"
   ]
  },
  {
   "cell_type": "code",
   "execution_count": 10,
   "metadata": {
    "collapsed": true
   },
   "outputs": [],
   "source": [
    "y = tf.matmul(x,W) + b"
   ]
  },
  {
   "cell_type": "code",
   "execution_count": 11,
   "metadata": {
    "collapsed": true
   },
   "outputs": [],
   "source": [
    "cross_entropy = tf.reduce_mean(tf.nn.softmax_cross_entropy_with_logits(labels=y_,logits=y))"
   ]
  },
  {
   "cell_type": "code",
   "execution_count": 12,
   "metadata": {
    "collapsed": true
   },
   "outputs": [],
   "source": [
    "train_step = tf.train.GradientDescentOptimizer(0.5).minimize(cross_entropy)"
   ]
  },
  {
   "cell_type": "code",
   "execution_count": 13,
   "metadata": {
    "collapsed": true
   },
   "outputs": [],
   "source": [
    "for _ in range(100):\n",
    "    batch = mnist.train.next_batch(100)\n",
    "    train_step.run(feed_dict={x:batch[0],y_:batch[1]})"
   ]
  },
  {
   "cell_type": "code",
   "execution_count": 14,
   "metadata": {
    "collapsed": true
   },
   "outputs": [],
   "source": [
    "correct = tf.equal(tf.argmax(y,1), tf.argmax(y_,1))"
   ]
  },
  {
   "cell_type": "code",
   "execution_count": 15,
   "metadata": {
    "collapsed": true
   },
   "outputs": [],
   "source": [
    "accuracy = tf.reduce_mean(tf.cast(correct,tf.float32))"
   ]
  },
  {
   "cell_type": "code",
   "execution_count": 16,
   "metadata": {},
   "outputs": [
    {
     "name": "stdout",
     "output_type": "stream",
     "text": [
      "0.8856\n"
     ]
    }
   ],
   "source": [
    "print(accuracy.eval(feed_dict={x:mnist.test.images,y_: mnist.test.labels}))"
   ]
  },
  {
   "cell_type": "markdown",
   "metadata": {},
   "source": [
    "# Convolutional Example"
   ]
  },
  {
   "cell_type": "code",
   "execution_count": 17,
   "metadata": {
    "collapsed": true
   },
   "outputs": [],
   "source": [
    "def weight_variable(shape):\n",
    "    initial = tf.truncated_normal(shape,stddev=0.1)\n",
    "    return tf.Variable(initial)\n",
    "\n",
    "def bias_variable(shape):\n",
    "    initial = tf.constant(0.1, shape=shape)\n",
    "    return tf.Variable(initial)"
   ]
  },
  {
   "cell_type": "code",
   "execution_count": 18,
   "metadata": {
    "collapsed": true
   },
   "outputs": [],
   "source": [
    "def conv2d(x,W):\n",
    "    return tf.nn.conv2d(x,W,strides = [1,1,1,1], padding='SAME')\n",
    "\n",
    "def max_pool_2x2(x):\n",
    "    return tf.nn.max_pool(x,ksize=[1,2,2,1],strides=[1,2,2,1],padding = 'SAME')\n"
   ]
  },
  {
   "cell_type": "markdown",
   "metadata": {},
   "source": [
    "Layer 1: 5x5 convolution, 32 output layers"
   ]
  },
  {
   "cell_type": "code",
   "execution_count": 19,
   "metadata": {
    "collapsed": true
   },
   "outputs": [],
   "source": [
    "W_conv1 = weight_variable([5,5,1,32])"
   ]
  },
  {
   "cell_type": "code",
   "execution_count": 20,
   "metadata": {
    "collapsed": true
   },
   "outputs": [],
   "source": [
    "b_conv1 = bias_variable([32])"
   ]
  },
  {
   "cell_type": "code",
   "execution_count": 21,
   "metadata": {
    "collapsed": true
   },
   "outputs": [],
   "source": [
    "x_image = tf.reshape(x,[-1,28,28,1])"
   ]
  },
  {
   "cell_type": "code",
   "execution_count": 22,
   "metadata": {
    "collapsed": true
   },
   "outputs": [],
   "source": [
    "h_conv1 = tf.nn.relu(conv2d(x_image, W_conv1) + b_conv1)"
   ]
  },
  {
   "cell_type": "markdown",
   "metadata": {},
   "source": [
    "This gives us 32 28x28 images for a single example. We shrink that by pooling adjacent cells into 32 smaller 14x14 images"
   ]
  },
  {
   "cell_type": "code",
   "execution_count": 23,
   "metadata": {
    "collapsed": true
   },
   "outputs": [],
   "source": [
    "h_pool1 = max_pool_2x2(h_conv1)"
   ]
  },
  {
   "cell_type": "markdown",
   "metadata": {},
   "source": [
    "Layer 2: 5x5 convolution, 64 output layers, 14x14 outputs"
   ]
  },
  {
   "cell_type": "code",
   "execution_count": 24,
   "metadata": {
    "collapsed": true
   },
   "outputs": [],
   "source": [
    "W_conv2 = weight_variable([5,5,32,64])\n",
    "b_conv2 = bias_variable([64])\n",
    "h_conv2 = tf.nn.relu(conv2d(h_pool1, W_conv2) + b_conv2)\n",
    "h_pool2 = max_pool_2x2(h_conv2)"
   ]
  },
  {
   "cell_type": "markdown",
   "metadata": {},
   "source": [
    "Again we shrink this down, giving us 64 7x7 images"
   ]
  },
  {
   "cell_type": "markdown",
   "metadata": {},
   "source": [
    "Now we lay the images out into a long vector of 3136 values and map them to 1024 values"
   ]
  },
  {
   "cell_type": "code",
   "execution_count": 25,
   "metadata": {
    "collapsed": true
   },
   "outputs": [],
   "source": [
    "W_fc1 = weight_variable([7*7*64, 1024])\n",
    "b_fc1 = bias_variable([1024])\n",
    "h_pool2_flat = tf.reshape(h_pool2,[-1,7*7*64])\n",
    "h_fc1 = tf.nn.relu(tf.matmul(h_pool2_flat,W_fc1) + b_fc1)"
   ]
  },
  {
   "cell_type": "markdown",
   "metadata": {},
   "source": [
    "We add dropout for scalablility (also good for overfitting)"
   ]
  },
  {
   "cell_type": "code",
   "execution_count": 26,
   "metadata": {
    "collapsed": true
   },
   "outputs": [],
   "source": [
    "keep_prob = tf.placeholder(tf.float32)\n",
    "h_fc1_drop = tf.nn.dropout(h_fc1, keep_prob)"
   ]
  },
  {
   "cell_type": "markdown",
   "metadata": {},
   "source": [
    "Now we go from 1024 values to 10 - these 10 are our labels so we'll have a vector of class probabilities (eventually)"
   ]
  },
  {
   "cell_type": "code",
   "execution_count": 27,
   "metadata": {
    "collapsed": true
   },
   "outputs": [],
   "source": [
    "W_fc2 = weight_variable([1024,10])\n",
    "b_fc2 = bias_variable([10])\n",
    "y_conv = tf.matmul(h_fc1_drop, W_fc2) + b_fc2"
   ]
  },
  {
   "cell_type": "markdown",
   "metadata": {},
   "source": [
    "We want to minimise the difference between the predicted outputs and the actual outputs, using softmax ($\\mathrm{arg} \\max \\frac{e^x}{\\sum_{x' \\in X}e^{x'}}$)"
   ]
  },
  {
   "cell_type": "code",
   "execution_count": 28,
   "metadata": {
    "collapsed": true
   },
   "outputs": [],
   "source": [
    "cross_entropy = tf.reduce_mean(tf.nn.softmax_cross_entropy_with_logits(labels=y_, logits=y_conv))"
   ]
  },
  {
   "cell_type": "markdown",
   "metadata": {},
   "source": [
    "The optimiser uses gradients which are magically computed from the graph"
   ]
  },
  {
   "cell_type": "code",
   "execution_count": 29,
   "metadata": {
    "collapsed": true
   },
   "outputs": [],
   "source": [
    "train_step = tf.train.AdamOptimizer(1e-4).minimize(cross_entropy)"
   ]
  },
  {
   "cell_type": "markdown",
   "metadata": {},
   "source": [
    "We're minimising loss which is abstract, so we calculate the accuracy (mean proportion of predicted == value)"
   ]
  },
  {
   "cell_type": "code",
   "execution_count": 30,
   "metadata": {
    "collapsed": true
   },
   "outputs": [],
   "source": [
    "correct_prediction = tf.equal(tf.argmax(y_conv,1), tf.argmax(y_,1))\n",
    "accuracy = tf.reduce_mean(tf.cast(correct_prediction,tf.float32))"
   ]
  },
  {
   "cell_type": "code",
   "execution_count": 31,
   "metadata": {
    "collapsed": true
   },
   "outputs": [],
   "source": [
    "sess.run(tf.global_variables_initializer())"
   ]
  },
  {
   "cell_type": "markdown",
   "metadata": {},
   "source": [
    "Loading and training is handled by the `mnist` package - presumably it's straight forward to implement an iterator for your own data."
   ]
  },
  {
   "cell_type": "code",
   "execution_count": 32,
   "metadata": {},
   "outputs": [
    {
     "name": "stdout",
     "output_type": "stream",
     "text": [
      "Step 0 Training accuracy is 0.04\n",
      "Step 100 Training accuracy is 0.86\n",
      "Step 200 Training accuracy is 1\n",
      "Step 300 Training accuracy is 0.92\n",
      "Step 400 Training accuracy is 0.94\n",
      "Step 500 Training accuracy is 0.94\n",
      "Step 600 Training accuracy is 0.96\n",
      "Step 700 Training accuracy is 0.96\n",
      "Step 800 Training accuracy is 0.92\n",
      "Step 900 Training accuracy is 0.92\n",
      "Test Accuracy:0.9635\n"
     ]
    }
   ],
   "source": [
    "for i in range(1000):\n",
    "    batch = mnist.train.next_batch(50)\n",
    "    if i % 100 == 0:\n",
    "        train_accuracy = accuracy.eval(feed_dict ={x:batch[0],y_:batch[1],keep_prob:1.0})\n",
    "        print(\"Step %d Training accuracy is %g\"%(i,train_accuracy))\n",
    "    train_step.run(feed_dict={x:batch[0],y_:batch[1],keep_prob:0.5})\n",
    "\n",
    "print(\"Test Accuracy:%g\"%accuracy.eval(feed_dict={x:mnist.test.images,y_:mnist.test.labels,keep_prob:1.0}))"
   ]
  },
  {
   "cell_type": "code",
   "execution_count": 33,
   "metadata": {},
   "outputs": [
    {
     "name": "stdout",
     "output_type": "stream",
     "text": [
      "Test Accuracy:0.9635\n"
     ]
    }
   ],
   "source": [
    "print(\"Test Accuracy:%g\"%accuracy.eval(feed_dict={x:mnist.test.images,y_:mnist.test.labels,keep_prob:1.0}))"
   ]
  },
  {
   "cell_type": "code",
   "execution_count": 34,
   "metadata": {
    "collapsed": true
   },
   "outputs": [],
   "source": [
    "import matplotlib.pyplot as plt"
   ]
  },
  {
   "cell_type": "code",
   "execution_count": 35,
   "metadata": {},
   "outputs": [
    {
     "data": {
      "text/plain": [
       "\"<tf.Variable 'Variable_8:0' shape=(1024, 10) dtype=float32_ref>\""
      ]
     },
     "execution_count": 35,
     "metadata": {},
     "output_type": "execute_result"
    }
   ],
   "source": [
    "str(W_fc2)"
   ]
  },
  {
   "cell_type": "code",
   "execution_count": 36,
   "metadata": {},
   "outputs": [
    {
     "data": {
      "text/plain": [
       "[<tf.Variable 'Variable:0' shape=(784, 10) dtype=float32_ref>,\n",
       " <tf.Variable 'Variable_1:0' shape=(10,) dtype=float32_ref>,\n",
       " <tf.Variable 'Variable_2:0' shape=(5, 5, 1, 32) dtype=float32_ref>,\n",
       " <tf.Variable 'Variable_3:0' shape=(32,) dtype=float32_ref>,\n",
       " <tf.Variable 'Variable_4:0' shape=(5, 5, 32, 64) dtype=float32_ref>,\n",
       " <tf.Variable 'Variable_5:0' shape=(64,) dtype=float32_ref>,\n",
       " <tf.Variable 'Variable_6:0' shape=(3136, 1024) dtype=float32_ref>,\n",
       " <tf.Variable 'Variable_7:0' shape=(1024,) dtype=float32_ref>,\n",
       " <tf.Variable 'Variable_8:0' shape=(1024, 10) dtype=float32_ref>,\n",
       " <tf.Variable 'Variable_9:0' shape=(10,) dtype=float32_ref>]"
      ]
     },
     "execution_count": 36,
     "metadata": {},
     "output_type": "execute_result"
    }
   ],
   "source": [
    "tf.trainable_variables()"
   ]
  },
  {
   "cell_type": "markdown",
   "metadata": {},
   "source": [
    "Use the `run` function of the session to evaluate a variable and get its contents."
   ]
  },
  {
   "cell_type": "code",
   "execution_count": 37,
   "metadata": {
    "collapsed": true
   },
   "outputs": [],
   "source": [
    "weights_c1 = sess.run(W_conv1)\n"
   ]
  },
  {
   "cell_type": "code",
   "execution_count": 40,
   "metadata": {},
   "outputs": [
    {
     "data": {
      "text/plain": [
       "(5, 5, 1, 32)"
      ]
     },
     "execution_count": 40,
     "metadata": {},
     "output_type": "execute_result"
    }
   ],
   "source": [
    "weights_c1.shape"
   ]
  },
  {
   "cell_type": "code",
   "execution_count": 56,
   "metadata": {},
   "outputs": [
    {
     "data": {
      "text/plain": [
       "0.060706105"
      ]
     },
     "execution_count": 56,
     "metadata": {},
     "output_type": "execute_result"
    }
   ],
   "source": [
    "weights_c1[(4,4,0,4)]"
   ]
  },
  {
   "cell_type": "code",
   "execution_count": 70,
   "metadata": {
    "scrolled": false
   },
   "outputs": [
    {
     "data": {
      "image/png": "[encoded data removed]",
      "text/plain": [
       "<matplotlib.figure.Figure at 0x114e0d250>"
      ]
     },
     "metadata": {},
     "output_type": "display_data"
    },
    {
     "data": {
      "image/png": "[encoded data removed]",
      "text/plain": [
       "<matplotlib.figure.Figure at 0x10eb94290>"
      ]
     },
     "metadata": {},
     "output_type": "display_data"
    },
    {
     "data": {
      "image/png": "[encoded data removed]",
      "text/plain": [
       "<matplotlib.figure.Figure at 0x114f12790>"
      ]
     },
     "metadata": {},
     "output_type": "display_data"
    },
    {
     "data": {
      "image/png": "[encoded data removed]",
      "text/plain": [
       "<matplotlib.figure.Figure at 0x10eb30650>"
      ]
     },
     "metadata": {},
     "output_type": "display_data"
    },
    {
     "data": {
      "image/png": "[encoded data removed]",
      "text/plain": [
       "<matplotlib.figure.Figure at 0x114e8ce10>"
      ]
     },
     "metadata": {},
     "output_type": "display_data"
    },
    {
     "data": {
      "image/png": "[encoded data removed]",
      "text/plain": [
       "<matplotlib.figure.Figure at 0x114e55b50>"
      ]
     },
     "metadata": {},
     "output_type": "display_data"
    },
    {
     "data": {
      "image/png": "[encoded data removed]",
      "text/plain": [
       "<matplotlib.figure.Figure at 0x104387890>"
      ]
     },
     "metadata": {},
     "output_type": "display_data"
    },
    {
     "data": {
      "image/png": "[encoded data removed]",
      "text/plain": [
       "<matplotlib.figure.Figure at 0x114e06cd0>"
      ]
     },
     "metadata": {},
     "output_type": "display_data"
    },
    {
     "data": {
      "image/png": "[encoded data removed]",
      "text/plain": [
       "<matplotlib.figure.Figure at 0x114e8ccd0>"
      ]
     },
     "metadata": {},
     "output_type": "display_data"
    },
    {
     "data": {
      "image/png": "[encoded data removed]",
      "text/plain": [
       "<matplotlib.figure.Figure at 0x10ec15ed0>"
      ]
     },
     "metadata": {},
     "output_type": "display_data"
    },
    {
     "data": {
      "image/png": "[encoded data removed]",
      "text/plain": [
       "<matplotlib.figure.Figure at 0x114f43a90>"
      ]
     },
     "metadata": {},
     "output_type": "display_data"
    },
    {
     "data": {
      "image/png": "[encoded data removed]",
      "text/plain": [
       "<matplotlib.figure.Figure at 0x11089ef10>"
      ]
     },
     "metadata": {},
     "output_type": "display_data"
    },
    {
     "data": {
      "image/png": "[encoded data removed]",
      "text/plain": [
       "<matplotlib.figure.Figure at 0x114f12790>"
      ]
     },
     "metadata": {},
     "output_type": "display_data"
    },
    {
     "data": {
      "image/png": "[encoded data removed]",
      "text/plain": [
       "<matplotlib.figure.Figure at 0x114e39a10>"
      ]
     },
     "metadata": {},
     "output_type": "display_data"
    },
    {
     "data": {
      "image/png": "[encoded data removed]",
      "text/plain": [
       "<matplotlib.figure.Figure at 0x114c7f210>"
      ]
     },
     "metadata": {},
     "output_type": "display_data"
    },
    {
     "data": {
      "image/png": "[encoded data removed]",
      "text/plain": [
       "<matplotlib.figure.Figure at 0x115001e50>"
      ]
     },
     "metadata": {},
     "output_type": "display_data"
    },
    {
     "data": {
      "image/png": "[encoded data removed]",
      "text/plain": [
       "<matplotlib.figure.Figure at 0x114e65210>"
      ]
     },
     "metadata": {},
     "output_type": "display_data"
    },
    {
     "data": {
      "image/png": "[encoded data removed]",
      "text/plain": [
       "<matplotlib.figure.Figure at 0x114f54dd0>"
      ]
     },
     "metadata": {},
     "output_type": "display_data"
    },
    {
     "data": {
      "image/png": "[encoded data removed]",
      "text/plain": [
       "<matplotlib.figure.Figure at 0x114e06cd0>"
      ]
     },
     "metadata": {},
     "output_type": "display_data"
    },
    {
     "data": {
      "image/png": "[encoded data removed]",
      "text/plain": [
       "<matplotlib.figure.Figure at 0x10dba1dd0>"
      ]
     },
     "metadata": {},
     "output_type": "display_data"
    },
    {
     "data": {
      "image/png": "[encoded data removed]",
      "text/plain": [
       "<matplotlib.figure.Figure at 0x104387890>"
      ]
     },
     "metadata": {},
     "output_type": "display_data"
    },
    {
     "data": {
      "image/png": "[encoded data removed]",
      "text/plain": [
       "<matplotlib.figure.Figure at 0x114c9b850>"
      ]
     },
     "metadata": {},
     "output_type": "display_data"
    },
    {
     "data": {
      "image/png": "[encoded data removed]",
      "text/plain": [
       "<matplotlib.figure.Figure at 0x114e65210>"
      ]
     },
     "metadata": {},
     "output_type": "display_data"
    },
    {
     "data": {
      "image/png": "[encoded data removed]",
      "text/plain": [
       "<matplotlib.figure.Figure at 0x114e52f50>"
      ]
     },
     "metadata": {},
     "output_type": "display_data"
    },
    {
     "data": {
      "image/png": "[encoded data removed]",
      "text/plain": [
       "<matplotlib.figure.Figure at 0x114c93e10>"
      ]
     },
     "metadata": {},
     "output_type": "display_data"
    },
    {
     "data": {
      "image/png": "[encoded data removed]",
      "text/plain": [
       "<matplotlib.figure.Figure at 0x114e0d250>"
      ]
     },
     "metadata": {},
     "output_type": "display_data"
    },
    {
     "data": {
      "image/png": "[encoded data removed]",
      "text/plain": [
       "<matplotlib.figure.Figure at 0x114f43a90>"
      ]
     },
     "metadata": {},
     "output_type": "display_data"
    },
    {
     "data": {
      "image/png": "[encoded data removed]",
      "text/plain": [
       "<matplotlib.figure.Figure at 0x114e39a10>"
      ]
     },
     "metadata": {},
     "output_type": "display_data"
    },
    {
     "data": {
      "image/png": "[encoded data removed]",
      "text/plain": [
       "<matplotlib.figure.Figure at 0x11089e650>"
      ]
     },
     "metadata": {},
     "output_type": "display_data"
    },
    {
     "data": {
      "image/png": "[encoded data removed]",
      "text/plain": [
       "<matplotlib.figure.Figure at 0x114c42750>"
      ]
     },
     "metadata": {},
     "output_type": "display_data"
    },
    {
     "data": {
      "image/png": "[encoded data removed]",
      "text/plain": [
       "<matplotlib.figure.Figure at 0x10eccdb10>"
      ]
     },
     "metadata": {},
     "output_type": "display_data"
    },
    {
     "data": {
      "image/png": "[encoded data removed]",
      "text/plain": [
       "<matplotlib.figure.Figure at 0x114e52f50>"
      ]
     },
     "metadata": {},
     "output_type": "display_data"
    }
   ],
   "source": [
    "%matplotlib inline \n",
    "#plt.figure(1)\n",
    "\n",
    "for layer in range(0,32):\n",
    "#    plt.subplot(211 + layer)\n",
    "    plt.matshow(weights_c1[:,:,0,layer])\n",
    "    plt.title(\"Layer %d\"%(layer))\n",
    "    plt.show()"
   ]
  },
  {
   "cell_type": "code",
   "execution_count": 71,
   "metadata": {},
   "outputs": [
    {
     "name": "stdout",
     "output_type": "stream",
     "text": [
      "Help on method run in module tensorflow.python.client.session:\n",
      "\n",
      "run(self, fetches, feed_dict=None, options=None, run_metadata=None) method of tensorflow.python.client.session.InteractiveSession instance\n",
      "    Runs operations and evaluates tensors in `fetches`.\n",
      "    \n",
      "    This method runs one \"step\" of TensorFlow computation, by\n",
      "    running the necessary graph fragment to execute every `Operation`\n",
      "    and evaluate every `Tensor` in `fetches`, substituting the values in\n",
      "    `feed_dict` for the corresponding input values.\n",
      "    \n",
      "    The `fetches` argument may be a single graph element, or an arbitrarily\n",
      "    nested list, tuple, namedtuple, dict, or OrderedDict containing graph\n",
      "    elements at its leaves.  A graph element can be one of the following types:\n",
      "    \n",
      "    * An @{tf.Operation}.\n",
      "      The corresponding fetched value will be `None`.\n",
      "    * A @{tf.Tensor}.\n",
      "      The corresponding fetched value will be a numpy ndarray containing the\n",
      "      value of that tensor.\n",
      "    * A @{tf.SparseTensor}.\n",
      "      The corresponding fetched value will be a\n",
      "      @{tf.SparseTensorValue}\n",
      "      containing the value of that sparse tensor.\n",
      "    * A `get_tensor_handle` op.  The corresponding fetched value will be a\n",
      "      numpy ndarray containing the handle of that tensor.\n",
      "    * A `string` which is the name of a tensor or operation in the graph.\n",
      "    \n",
      "    The value returned by `run()` has the same shape as the `fetches` argument,\n",
      "    where the leaves are replaced by the corresponding values returned by\n",
      "    TensorFlow.\n",
      "    \n",
      "    Example:\n",
      "    \n",
      "    ```python\n",
      "       a = tf.constant([10, 20])\n",
      "       b = tf.constant([1.0, 2.0])\n",
      "       # 'fetches' can be a singleton\n",
      "       v = session.run(a)\n",
      "       # v is the numpy array [10, 20]\n",
      "       # 'fetches' can be a list.\n",
      "       v = session.run([a, b])\n",
      "       # v is a Python list with 2 numpy arrays: the 1-D array [10, 20] and the\n",
      "       # 1-D array [1.0, 2.0]\n",
      "       # 'fetches' can be arbitrary lists, tuples, namedtuple, dicts:\n",
      "       MyData = collections.namedtuple('MyData', ['a', 'b'])\n",
      "       v = session.run({'k1': MyData(a, b), 'k2': [b, a]})\n",
      "       # v is a dict with\n",
      "       # v['k1'] is a MyData namedtuple with 'a' (the numpy array [10, 20]) and\n",
      "       # 'b' (the numpy array [1.0, 2.0])\n",
      "       # v['k2'] is a list with the numpy array [1.0, 2.0] and the numpy array\n",
      "       # [10, 20].\n",
      "    ```\n",
      "    \n",
      "    The optional `feed_dict` argument allows the caller to override\n",
      "    the value of tensors in the graph. Each key in `feed_dict` can be\n",
      "    one of the following types:\n",
      "    \n",
      "    * If the key is a @{tf.Tensor}, the\n",
      "      value may be a Python scalar, string, list, or numpy ndarray\n",
      "      that can be converted to the same `dtype` as that\n",
      "      tensor. Additionally, if the key is a\n",
      "      @{tf.placeholder}, the shape of\n",
      "      the value will be checked for compatibility with the placeholder.\n",
      "    * If the key is a\n",
      "      @{tf.SparseTensor},\n",
      "      the value should be a\n",
      "      @{tf.SparseTensorValue}.\n",
      "    * If the key is a nested tuple of `Tensor`s or `SparseTensor`s, the value\n",
      "      should be a nested tuple with the same structure that maps to their\n",
      "      corresponding values as above.\n",
      "    \n",
      "    Each value in `feed_dict` must be convertible to a numpy array of the dtype\n",
      "    of the corresponding key.\n",
      "    \n",
      "    The optional `options` argument expects a [`RunOptions`] proto. The options\n",
      "    allow controlling the behavior of this particular step (e.g. turning tracing\n",
      "    on).\n",
      "    \n",
      "    The optional `run_metadata` argument expects a [`RunMetadata`] proto. When\n",
      "    appropriate, the non-Tensor output of this step will be collected there. For\n",
      "    example, when users turn on tracing in `options`, the profiled info will be\n",
      "    collected into this argument and passed back.\n",
      "    \n",
      "    Args:\n",
      "      fetches: A single graph element, a list of graph elements,\n",
      "        or a dictionary whose values are graph elements or lists of graph\n",
      "        elements (described above).\n",
      "      feed_dict: A dictionary that maps graph elements to values\n",
      "        (described above).\n",
      "      options: A [`RunOptions`] protocol buffer\n",
      "      run_metadata: A [`RunMetadata`] protocol buffer\n",
      "    \n",
      "    Returns:\n",
      "      Either a single value if `fetches` is a single graph element, or\n",
      "      a list of values if `fetches` is a list, or a dictionary with the\n",
      "      same keys as `fetches` if that is a dictionary (described above).\n",
      "    \n",
      "    Raises:\n",
      "      RuntimeError: If this `Session` is in an invalid state (e.g. has been\n",
      "        closed).\n",
      "      TypeError: If `fetches` or `feed_dict` keys are of an inappropriate type.\n",
      "      ValueError: If `fetches` or `feed_dict` keys are invalid or refer to a\n",
      "        `Tensor` that doesn't exist.\n",
      "\n"
     ]
    }
   ],
   "source": [
    "help(sess.run)"
   ]
  },
  {
   "cell_type": "markdown",
   "metadata": {},
   "source": []
  }
 ],
 "metadata": {
  "kernelspec": {
   "display_name": "Python 2",
   "language": "python",
   "name": "python2"
  },
  "language_info": {
   "codemirror_mode": {
    "name": "ipython",
    "version": 2
   },
   "file_extension": ".py",
   "mimetype": "text/x-python",
   "name": "python",
   "nbconvert_exporter": "python",
   "pygments_lexer": "ipython2",
   "version": "2.7.10"
  }
 },
 "nbformat": 4,
 "nbformat_minor": 2
}
